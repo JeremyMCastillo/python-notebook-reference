{
 "cells": [
  {
   "cell_type": "code",
   "execution_count": 2,
   "source": [
    "from sklearn.datasets import fetch_20newsgroups\r\n",
    "categories = ['sci.med', 'sci.space']\r\n",
    "twenty_sci_news = fetch_20newsgroups(categories=categories)\r\n",
    "twenty_sci_news.data[0]"
   ],
   "outputs": [
    {
     "output_type": "execute_result",
     "data": {
      "text/plain": [
       "'From: flb@flb.optiplan.fi (\"F.Baube[tm]\")\\nSubject: Vandalizing the sky\\nX-Added: Forwarded by Space Digest\\nOrganization: [via International Space University]\\nOriginal-Sender: isu@VACATION.VENARI.CS.CMU.EDU\\nDistribution: sci\\nLines: 12\\n\\nFrom: \"Phil G. Fraering\" <pgf@srl03.cacs.usl.edu>\\n> \\n> Finally: this isn\\'t the Bronze Age, [..]\\n> please try to remember that there are more human activities than\\n> those practiced by the Warrior Caste, the Farming Caste, and the\\n> Priesthood.\\n\\nRight, the Profiting Caste is blessed by God, and may \\n freely blare its presence in the evening twilight ..\\n\\n-- \\n* Fred Baube (tm)\\n'"
      ]
     },
     "metadata": {},
     "execution_count": 2
    }
   ],
   "metadata": {}
  },
  {
   "cell_type": "code",
   "execution_count": 3,
   "source": [
    "twenty_sci_news.filenames"
   ],
   "outputs": [
    {
     "output_type": "execute_result",
     "data": {
      "text/plain": [
       "array(['C:\\\\Users\\\\jcast\\\\scikit_learn_data\\\\20news_home\\\\20news-bydate-train\\\\sci.space\\\\61116',\n",
       "       'C:\\\\Users\\\\jcast\\\\scikit_learn_data\\\\20news_home\\\\20news-bydate-train\\\\sci.med\\\\58122',\n",
       "       'C:\\\\Users\\\\jcast\\\\scikit_learn_data\\\\20news_home\\\\20news-bydate-train\\\\sci.med\\\\58903',\n",
       "       ...,\n",
       "       'C:\\\\Users\\\\jcast\\\\scikit_learn_data\\\\20news_home\\\\20news-bydate-train\\\\sci.space\\\\60774',\n",
       "       'C:\\\\Users\\\\jcast\\\\scikit_learn_data\\\\20news_home\\\\20news-bydate-train\\\\sci.space\\\\60954',\n",
       "       'C:\\\\Users\\\\jcast\\\\scikit_learn_data\\\\20news_home\\\\20news-bydate-train\\\\sci.med\\\\58911'],\n",
       "      dtype='<U95')"
      ]
     },
     "metadata": {},
     "execution_count": 3
    }
   ],
   "metadata": {}
  },
  {
   "cell_type": "code",
   "execution_count": 4,
   "source": [
    "print(twenty_sci_news.target[0])\r\n",
    "print(twenty_sci_news.target_names[twenty_sci_news.target[0]])"
   ],
   "outputs": [
    {
     "output_type": "stream",
     "name": "stdout",
     "text": [
      "1\n",
      "sci.space\n"
     ]
    }
   ],
   "metadata": {}
  },
  {
   "cell_type": "code",
   "execution_count": 5,
   "source": [
    "from sklearn.feature_extraction.text import CountVectorizer\r\n",
    "count_vect = CountVectorizer()\r\n",
    "word_count = count_vect.fit_transform(twenty_sci_news.data)\r\n",
    "word_count.shape"
   ],
   "outputs": [
    {
     "output_type": "execute_result",
     "data": {
      "text/plain": [
       "(1187, 25638)"
      ]
     },
     "metadata": {},
     "execution_count": 5
    }
   ],
   "metadata": {}
  },
  {
   "cell_type": "code",
   "execution_count": 6,
   "source": [
    "print(word_count[0])"
   ],
   "outputs": [
    {
     "output_type": "stream",
     "name": "stdout",
     "text": [
      "  (0, 10827)\t2\n",
      "  (0, 10501)\t2\n",
      "  (0, 17170)\t1\n",
      "  (0, 10341)\t1\n",
      "  (0, 4762)\t2\n",
      "  (0, 23381)\t2\n",
      "  (0, 22345)\t1\n",
      "  (0, 24461)\t1\n",
      "  (0, 23137)\t7\n",
      "  (0, 21382)\t1\n",
      "  (0, 3233)\t1\n",
      "  (0, 10713)\t1\n",
      "  (0, 5650)\t3\n",
      "  (0, 21686)\t2\n",
      "  (0, 8438)\t1\n",
      "  (0, 17217)\t1\n",
      "  (0, 24626)\t1\n",
      "  (0, 13158)\t1\n",
      "  (0, 24151)\t1\n",
      "  (0, 17235)\t1\n",
      "  (0, 20909)\t1\n",
      "  (0, 13359)\t1\n",
      "  (0, 24415)\t1\n",
      "  (0, 24547)\t1\n",
      "  (0, 7646)\t1\n",
      "  :\t:\n",
      "  (0, 15968)\t1\n",
      "  (0, 12362)\t1\n",
      "  (0, 3191)\t1\n",
      "  (0, 23129)\t1\n",
      "  (0, 23241)\t1\n",
      "  (0, 18474)\t1\n",
      "  (0, 24930)\t1\n",
      "  (0, 6017)\t3\n",
      "  (0, 10188)\t1\n",
      "  (0, 3808)\t2\n",
      "  (0, 18642)\t1\n",
      "  (0, 20110)\t1\n",
      "  (0, 18744)\t1\n",
      "  (0, 13318)\t1\n",
      "  (0, 5148)\t1\n",
      "  (0, 11330)\t1\n",
      "  (0, 15246)\t1\n",
      "  (0, 10785)\t1\n",
      "  (0, 5134)\t1\n",
      "  (0, 13384)\t1\n",
      "  (0, 18586)\t1\n",
      "  (0, 12716)\t1\n",
      "  (0, 9796)\t1\n",
      "  (0, 23849)\t1\n",
      "  (0, 10778)\t1\n"
     ]
    }
   ],
   "metadata": {}
  },
  {
   "cell_type": "code",
   "execution_count": 9,
   "source": [
    "word_list = count_vect.get_feature_names()\r\n",
    "for n in word_count[0].indices:\r\n",
    "    print(\"Word:\", word_list[n], \"appears\", word_count[0, n], \"times\")"
   ],
   "outputs": [
    {
     "output_type": "stream",
     "name": "stdout",
     "text": [
      "Word: from appears 2 times\n",
      "Word: flb appears 2 times\n",
      "Word: optiplan appears 1 times\n",
      "Word: fi appears 1 times\n",
      "Word: baube appears 2 times\n",
      "Word: tm appears 2 times\n",
      "Word: subject appears 1 times\n",
      "Word: vandalizing appears 1 times\n",
      "Word: the appears 7 times\n",
      "Word: sky appears 1 times\n",
      "Word: added appears 1 times\n",
      "Word: forwarded appears 1 times\n",
      "Word: by appears 3 times\n",
      "Word: space appears 2 times\n",
      "Word: digest appears 1 times\n",
      "Word: organization appears 1 times\n",
      "Word: via appears 1 times\n",
      "Word: international appears 1 times\n",
      "Word: university appears 1 times\n",
      "Word: original appears 1 times\n",
      "Word: sender appears 1 times\n",
      "Word: isu appears 1 times\n",
      "Word: vacation appears 1 times\n",
      "Word: venari appears 1 times\n",
      "Word: cs appears 1 times\n",
      "Word: cmu appears 1 times\n",
      "Word: edu appears 2 times\n",
      "Word: distribution appears 1 times\n",
      "Word: sci appears 1 times\n",
      "Word: lines appears 1 times\n",
      "Word: 12 appears 1 times\n",
      "Word: phil appears 1 times\n",
      "Word: fraering appears 1 times\n",
      "Word: pgf appears 1 times\n",
      "Word: srl03 appears 1 times\n",
      "Word: cacs appears 1 times\n",
      "Word: usl appears 1 times\n",
      "Word: finally appears 1 times\n",
      "Word: this appears 1 times\n",
      "Word: isn appears 1 times\n",
      "Word: bronze appears 1 times\n",
      "Word: age appears 1 times\n",
      "Word: please appears 1 times\n",
      "Word: try appears 1 times\n",
      "Word: to appears 1 times\n",
      "Word: remember appears 1 times\n",
      "Word: that appears 1 times\n",
      "Word: there appears 1 times\n",
      "Word: are appears 1 times\n",
      "Word: more appears 1 times\n",
      "Word: human appears 1 times\n",
      "Word: activities appears 1 times\n",
      "Word: than appears 1 times\n",
      "Word: those appears 1 times\n",
      "Word: practiced appears 1 times\n",
      "Word: warrior appears 1 times\n",
      "Word: caste appears 3 times\n",
      "Word: farming appears 1 times\n",
      "Word: and appears 2 times\n",
      "Word: priesthood appears 1 times\n",
      "Word: right appears 1 times\n",
      "Word: profiting appears 1 times\n",
      "Word: is appears 1 times\n",
      "Word: blessed appears 1 times\n",
      "Word: god appears 1 times\n",
      "Word: may appears 1 times\n",
      "Word: freely appears 1 times\n",
      "Word: blare appears 1 times\n",
      "Word: its appears 1 times\n",
      "Word: presence appears 1 times\n",
      "Word: in appears 1 times\n",
      "Word: evening appears 1 times\n",
      "Word: twilight appears 1 times\n",
      "Word: fred appears 1 times\n"
     ]
    }
   ],
   "metadata": {}
  },
  {
   "cell_type": "code",
   "execution_count": 13,
   "source": [
    "from sklearn.feature_extraction.text import TfidfVectorizer\r\n",
    "tf_vect = TfidfVectorizer(use_idf=False, norm='l1')\r\n",
    "word_freq = tf_vect.fit_transform(twenty_sci_news.data)\r\n",
    "word_list = tf_vect.get_feature_names()\r\n",
    "for n in word_freq[0].indices:\r\n",
    "    print(\"Word:\", word_list[n], \"has frequency\", word_freq[0, n])"
   ],
   "outputs": [
    {
     "output_type": "stream",
     "name": "stdout",
     "text": [
      "Word: from has frequency 0.02197802197802198\n",
      "Word: flb has frequency 0.02197802197802198\n",
      "Word: optiplan has frequency 0.01098901098901099\n",
      "Word: fi has frequency 0.01098901098901099\n",
      "Word: baube has frequency 0.02197802197802198\n",
      "Word: tm has frequency 0.02197802197802198\n",
      "Word: subject has frequency 0.01098901098901099\n",
      "Word: vandalizing has frequency 0.01098901098901099\n",
      "Word: the has frequency 0.07692307692307693\n",
      "Word: sky has frequency 0.01098901098901099\n",
      "Word: added has frequency 0.01098901098901099\n",
      "Word: forwarded has frequency 0.01098901098901099\n",
      "Word: by has frequency 0.03296703296703297\n",
      "Word: space has frequency 0.02197802197802198\n",
      "Word: digest has frequency 0.01098901098901099\n",
      "Word: organization has frequency 0.01098901098901099\n",
      "Word: via has frequency 0.01098901098901099\n",
      "Word: international has frequency 0.01098901098901099\n",
      "Word: university has frequency 0.01098901098901099\n",
      "Word: original has frequency 0.01098901098901099\n",
      "Word: sender has frequency 0.01098901098901099\n",
      "Word: isu has frequency 0.01098901098901099\n",
      "Word: vacation has frequency 0.01098901098901099\n",
      "Word: venari has frequency 0.01098901098901099\n",
      "Word: cs has frequency 0.01098901098901099\n",
      "Word: cmu has frequency 0.01098901098901099\n",
      "Word: edu has frequency 0.02197802197802198\n",
      "Word: distribution has frequency 0.01098901098901099\n",
      "Word: sci has frequency 0.01098901098901099\n",
      "Word: lines has frequency 0.01098901098901099\n",
      "Word: 12 has frequency 0.01098901098901099\n",
      "Word: phil has frequency 0.01098901098901099\n",
      "Word: fraering has frequency 0.01098901098901099\n",
      "Word: pgf has frequency 0.01098901098901099\n",
      "Word: srl03 has frequency 0.01098901098901099\n",
      "Word: cacs has frequency 0.01098901098901099\n",
      "Word: usl has frequency 0.01098901098901099\n",
      "Word: finally has frequency 0.01098901098901099\n",
      "Word: this has frequency 0.01098901098901099\n",
      "Word: isn has frequency 0.01098901098901099\n",
      "Word: bronze has frequency 0.01098901098901099\n",
      "Word: age has frequency 0.01098901098901099\n",
      "Word: please has frequency 0.01098901098901099\n",
      "Word: try has frequency 0.01098901098901099\n",
      "Word: to has frequency 0.01098901098901099\n",
      "Word: remember has frequency 0.01098901098901099\n",
      "Word: that has frequency 0.01098901098901099\n",
      "Word: there has frequency 0.01098901098901099\n",
      "Word: are has frequency 0.01098901098901099\n",
      "Word: more has frequency 0.01098901098901099\n",
      "Word: human has frequency 0.01098901098901099\n",
      "Word: activities has frequency 0.01098901098901099\n",
      "Word: than has frequency 0.01098901098901099\n",
      "Word: those has frequency 0.01098901098901099\n",
      "Word: practiced has frequency 0.01098901098901099\n",
      "Word: warrior has frequency 0.01098901098901099\n",
      "Word: caste has frequency 0.03296703296703297\n",
      "Word: farming has frequency 0.01098901098901099\n",
      "Word: and has frequency 0.02197802197802198\n",
      "Word: priesthood has frequency 0.01098901098901099\n",
      "Word: right has frequency 0.01098901098901099\n",
      "Word: profiting has frequency 0.01098901098901099\n",
      "Word: is has frequency 0.01098901098901099\n",
      "Word: blessed has frequency 0.01098901098901099\n",
      "Word: god has frequency 0.01098901098901099\n",
      "Word: may has frequency 0.01098901098901099\n",
      "Word: freely has frequency 0.01098901098901099\n",
      "Word: blare has frequency 0.01098901098901099\n",
      "Word: its has frequency 0.01098901098901099\n",
      "Word: presence has frequency 0.01098901098901099\n",
      "Word: in has frequency 0.01098901098901099\n",
      "Word: evening has frequency 0.01098901098901099\n",
      "Word: twilight has frequency 0.01098901098901099\n",
      "Word: fred has frequency 0.01098901098901099\n"
     ]
    }
   ],
   "metadata": {}
  },
  {
   "cell_type": "code",
   "execution_count": 14,
   "source": [
    "tfidf_vect = TfidfVectorizer()\r\n",
    "word_tfidf = tfidf_vect.fit_transform(twenty_sci_news.data)\r\n",
    "word_list = tfidf_vect.get_feature_names()\r\n",
    "for n in word_tfidf[0].indices:\r\n",
    "    print(\"Word:\", word_list[n], \"has tfidf\", word_tfidf[0, n])"
   ],
   "outputs": [
    {
     "output_type": "stream",
     "name": "stdout",
     "text": [
      "Word: fred has tfidf 0.08936045234843078\n",
      "Word: twilight has tfidf 0.13938927782180835\n",
      "Word: evening has tfidf 0.11302673424119597\n",
      "Word: in has tfidf 0.0239166759663498\n",
      "Word: presence has tfidf 0.1188056711727349\n",
      "Word: its has tfidf 0.0614868335851203\n",
      "Word: blare has tfidf 0.1503934722357903\n",
      "Word: freely has tfidf 0.1188056711727349\n",
      "Word: may has tfidf 0.05435468556679453\n",
      "Word: god has tfidf 0.1188056711727349\n",
      "Word: blessed has tfidf 0.1503934722357903\n",
      "Word: is has tfidf 0.025534922944795504\n",
      "Word: profiting has tfidf 0.1503934722357903\n",
      "Word: right has tfidf 0.06776142459179928\n",
      "Word: priesthood has tfidf 0.14419623132344553\n",
      "Word: and has tfidf 0.04914899480764025\n",
      "Word: farming has tfidf 0.14419623132344553\n",
      "Word: caste has tfidf 0.43258869397033656\n",
      "Word: warrior has tfidf 0.14419623132344553\n",
      "Word: practiced has tfidf 0.132141000260103\n",
      "Word: those has tfidf 0.060468912973222586\n",
      "Word: than has tfidf 0.05191930330186187\n",
      "Word: activities has tfidf 0.09066642662557041\n",
      "Word: human has tfidf 0.0844691857132256\n",
      "Word: more has tfidf 0.04649724133406932\n",
      "Word: are has tfidf 0.03463261182073175\n",
      "Word: there has tfidf 0.03852690933840286\n",
      "Word: that has tfidf 0.026770080186189097\n",
      "Word: remember has tfidf 0.07688691730428243\n",
      "Word: to has tfidf 0.02312167880805218\n",
      "Word: try has tfidf 0.07299884066247375\n",
      "Word: please has tfidf 0.07128977029653104\n",
      "Word: age has tfidf 0.09158324490848231\n",
      "Word: bronze has tfidf 0.14419623132344553\n",
      "Word: isn has tfidf 0.07299884066247375\n",
      "Word: this has tfidf 0.03108008679402127\n",
      "Word: finally has tfidf 0.09747052395335588\n",
      "Word: usl has tfidf 0.11179542894047015\n",
      "Word: cacs has tfidf 0.11433270851833557\n",
      "Word: srl03 has tfidf 0.12052994943068035\n",
      "Word: pgf has tfidf 0.11433270851833557\n",
      "Word: fraering has tfidf 0.11302673424119597\n",
      "Word: phil has tfidf 0.10227747745499305\n",
      "Word: 12 has tfidf 0.07618819730345817\n",
      "Word: lines has tfidf 0.021724075391797198\n",
      "Word: sci has tfidf 0.06670300928912896\n",
      "Word: distribution has tfidf 0.05290729202325938\n",
      "Word: edu has tfidf 0.05947852867520309\n",
      "Word: cmu has tfidf 0.08134167803269202\n",
      "Word: cs has tfidf 0.05460566290811566\n",
      "Word: venari has tfidf 0.10306090845025996\n",
      "Word: vacation has tfidf 0.09940094711578058\n",
      "Word: isu has tfidf 0.09940094711578058\n",
      "Word: sender has tfidf 0.09303606350425024\n",
      "Word: original has tfidf 0.08515311547788547\n",
      "Word: university has tfidf 0.044724150250747635\n",
      "Word: international has tfidf 0.08134167803269202\n",
      "Word: via has tfidf 0.083163211436086\n",
      "Word: organization has tfidf 0.022204860525140275\n",
      "Word: digest has tfidf 0.09459399361414342\n",
      "Word: space has tfidf 0.09814129398947688\n",
      "Word: by has tfidf 0.11991135778082024\n",
      "Word: forwarded has tfidf 0.09627343943524701\n",
      "Word: added has tfidf 0.08812914704770498\n",
      "Word: sky has tfidf 0.09111995870601315\n",
      "Word: the has tfidf 0.15754306290689327\n",
      "Word: vandalizing has tfidf 0.10306090845025996\n",
      "Word: subject has tfidf 0.021541978127203303\n",
      "Word: tm has tfidf 0.2190515100333968\n",
      "Word: baube has tfidf 0.264282000520206\n",
      "Word: fi has tfidf 0.1095257550166984\n",
      "Word: optiplan has tfidf 0.132141000260103\n",
      "Word: flb has tfidf 0.264282000520206\n",
      "Word: from has tfidf 0.04308395625440661\n"
     ]
    }
   ],
   "metadata": {}
  },
  {
   "cell_type": "code",
   "execution_count": 15,
   "source": [
    "text_1 = 'we love data science'\r\n",
    "text_2 = 'data science is hard'\r\n",
    "documents = [text_1, text_2]\r\n",
    "documents"
   ],
   "outputs": [
    {
     "output_type": "execute_result",
     "data": {
      "text/plain": [
       "['we love data science', 'data science is hard']"
      ]
     },
     "metadata": {},
     "execution_count": 15
    }
   ],
   "metadata": {}
  },
  {
   "cell_type": "code",
   "execution_count": 21,
   "source": [
    "count_vect_1_grams = CountVectorizer(ngram_range=(1, 1), stop_words=[], min_df=1)\r\n",
    "word_count = count_vect_1_grams.fit_transform(documents)\r\n",
    "word_list = count_vect_1_grams.get_feature_names()\r\n",
    "print(\"Word list = \", word_list)\r\n",
    "print(\"text_1 is described with\", [word_list[n] + \"(\" + str(word_count[0, n]) + \")\" for n in word_count[0].indices])"
   ],
   "outputs": [
    {
     "output_type": "stream",
     "name": "stdout",
     "text": [
      "Word list =  ['data', 'hard', 'is', 'love', 'science', 'we']\n",
      "text_1 is described with ['we(1)', 'love(1)', 'data(1)', 'science(1)']\n"
     ]
    }
   ],
   "metadata": {}
  },
  {
   "cell_type": "code",
   "execution_count": 22,
   "source": [
    "# Bigram text vectorizer\r\n",
    "count_vect_1_grams = CountVectorizer(ngram_range=(2, 2))\r\n",
    "word_count = count_vect_1_grams.fit_transform(documents)\r\n",
    "word_list = count_vect_1_grams.get_feature_names()\r\n",
    "print(\"Word list = \", word_list)\r\n",
    "print(\"text_1 is described with\", [word_list[n] + \"(\" + str(word_count[0, n]) + \")\" for n in word_count[0].indices])"
   ],
   "outputs": [
    {
     "output_type": "stream",
     "name": "stdout",
     "text": [
      "Word list =  ['data science', 'is hard', 'love data', 'science is', 'we love']\n",
      "text_1 is described with ['we love(1)', 'love data(1)', 'data science(1)']\n"
     ]
    }
   ],
   "metadata": {}
  },
  {
   "cell_type": "code",
   "execution_count": 23,
   "source": [
    "# uni and bigram vectorizer\r\n",
    "count_vect_1_grams = CountVectorizer(ngram_range=(1, 2))\r\n",
    "word_count = count_vect_1_grams.fit_transform(documents)\r\n",
    "word_list = count_vect_1_grams.get_feature_names()\r\n",
    "print(\"Word list = \", word_list)\r\n",
    "print(\"text_1 is described with\", [word_list[n] + \"(\" + str(word_count[0, n]) + \")\" for n in word_count[0].indices])"
   ],
   "outputs": [
    {
     "output_type": "stream",
     "name": "stdout",
     "text": [
      "Word list =  ['data', 'data science', 'hard', 'is', 'is hard', 'love', 'love data', 'science', 'science is', 'we', 'we love']\n",
      "text_1 is described with ['we(1)', 'love(1)', 'data(1)', 'science(1)', 'we love(1)', 'love data(1)', 'data science(1)']\n"
     ]
    }
   ],
   "metadata": {}
  },
  {
   "cell_type": "code",
   "execution_count": null,
   "source": [],
   "outputs": [],
   "metadata": {}
  }
 ],
 "metadata": {
  "orig_nbformat": 4,
  "language_info": {
   "name": "python",
   "version": "3.9.6",
   "mimetype": "text/x-python",
   "codemirror_mode": {
    "name": "ipython",
    "version": 3
   },
   "pygments_lexer": "ipython3",
   "nbconvert_exporter": "python",
   "file_extension": ".py"
  },
  "kernelspec": {
   "name": "python3",
   "display_name": "Python 3.9.6 64-bit"
  },
  "interpreter": {
   "hash": "50dbc5e2261e673d1a998ac2e1d4f3d4020dd1ce7d27f3d680a5a4d769cde90c"
  }
 },
 "nbformat": 4,
 "nbformat_minor": 2
}