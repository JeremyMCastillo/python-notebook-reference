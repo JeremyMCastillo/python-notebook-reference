{
 "cells": [
  {
   "cell_type": "code",
   "execution_count": 6,
   "source": [
    "import numpy as np \r\n",
    "from sklearn import datasets\r\n",
    "from sklearn.model_selection import train_test_split\r\n",
    "from sklearn.metrics import mean_squared_error\r\n",
    "cali = datasets.fetch_california_housing()\r\n",
    "X = cali.data\r\n",
    "y = cali.target\r\n",
    "X_train, X_test, y_train, y_test = train_test_split(X, y, train_size=0.8)"
   ],
   "outputs": [],
   "metadata": {}
  },
  {
   "cell_type": "code",
   "execution_count": 2,
   "source": [
    "from sklearn.neighbors import KNeighborsRegressor\r\n",
    "regressor = KNeighborsRegressor()\r\n",
    "regressor.fit(X_train, y_train)\r\n",
    "y_est = regressor.predict(X_test)\r\n",
    "print(\"MAE=\", mean_squared_error(y_test, y_est))"
   ],
   "outputs": [
    {
     "output_type": "stream",
     "name": "stdout",
     "text": [
      "MAE= 1.2132543730449845\n"
     ]
    }
   ],
   "metadata": {}
  },
  {
   "cell_type": "code",
   "execution_count": 3,
   "source": [
    "from sklearn.preprocessing import StandardScaler\r\n",
    "scaler = StandardScaler()\r\n",
    "X_train_scaled = scaler.fit_transform(X_train)\r\n",
    "X_test_scaled = scaler.transform(X_test)\r\n",
    "regressor = KNeighborsRegressor()\r\n",
    "regressor.fit(X_train_scaled, y_train)\r\n",
    "y_est = regressor.predict(X_test_scaled)\r\n",
    "print(\"MAE=\", mean_squared_error(y_test, y_est))"
   ],
   "outputs": [
    {
     "output_type": "stream",
     "name": "stdout",
     "text": [
      "MAE= 0.41615167104847184\n"
     ]
    }
   ],
   "metadata": {}
  },
  {
   "cell_type": "code",
   "execution_count": 7,
   "source": [
    "non_linear_feat = 5 # AveOccup\r\n",
    "# Creating new feature\r\n",
    "X_train_new_feat = np.sqrt(X_train[:,non_linear_feat])\r\n",
    "X_train_new_feat.shape = (X_train_new_feat.shape[0], 1)\r\n",
    "X_train_extended = np.hstack([X_train, X_train_new_feat])\r\n",
    "\r\n",
    "X_test_new_feat = np.sqrt(X_test[:,non_linear_feat])\r\n",
    "X_test_new_feat.shape = (X_test_new_feat.shape[0], 1)\r\n",
    "X_test_extended = np.hstack([X_test, X_test_new_feat])\r\n",
    "\r\n",
    "scaler = StandardScaler()\r\n",
    "\r\n",
    "X_train_extended_scaled = scaler.fit_transform(X_train_extended)\r\n",
    "X_test_extended_scaled = scaler.transform(X_test_extended)\r\n",
    "regressor = KNeighborsRegressor()\r\n",
    "regressor.fit(X_train_extended_scaled, y_train)\r\n",
    "y_est = regressor.predict(X_test_extended_scaled)\r\n",
    "print(\"MAE=\", mean_squared_error(y_test, y_est))"
   ],
   "outputs": [
    {
     "output_type": "stream",
     "name": "stdout",
     "text": [
      "MAE= 0.34608712437648254\n"
     ]
    }
   ],
   "metadata": {}
  },
  {
   "cell_type": "code",
   "execution_count": null,
   "source": [],
   "outputs": [],
   "metadata": {}
  }
 ],
 "metadata": {
  "orig_nbformat": 4,
  "language_info": {
   "name": "python",
   "version": "3.9.6",
   "mimetype": "text/x-python",
   "codemirror_mode": {
    "name": "ipython",
    "version": 3
   },
   "pygments_lexer": "ipython3",
   "nbconvert_exporter": "python",
   "file_extension": ".py"
  },
  "kernelspec": {
   "name": "python3",
   "display_name": "Python 3.9.6 64-bit"
  },
  "interpreter": {
   "hash": "50dbc5e2261e673d1a998ac2e1d4f3d4020dd1ce7d27f3d680a5a4d769cde90c"
  }
 },
 "nbformat": 4,
 "nbformat_minor": 2
}